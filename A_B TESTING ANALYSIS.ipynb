{
 "cells": [
  {
   "cell_type": "code",
   "execution_count": 42,
   "id": "4662ffba",
   "metadata": {},
   "outputs": [],
   "source": [
    "import pandas as pd\n",
    "import numpy as np\n",
    "from scipy import stats\n",
    "# Read datasets from CSV files with semicolon separator\n",
    "control_data = pd.read_csv(\"/home/shankar/Downloads/aicte/control_group.csv\", sep=';')\n",
    "test_data = pd.read_csv(\"/home/shankar/Downloads/aicte/test_group.csv\", sep=';')"
   ]
  },
  {
   "cell_type": "code",
   "execution_count": 43,
   "id": "78fcda56",
   "metadata": {},
   "outputs": [],
   "source": [
    "# Check for missing values and remove them\n",
    "control_data.dropna(inplace=True)\n",
    "test_data.dropna(inplace=True)"
   ]
  },
  {
   "cell_type": "code",
   "execution_count": 44,
   "id": "f962ca06",
   "metadata": {},
   "outputs": [
    {
     "name": "stdout",
     "output_type": "stream",
     "text": [
      "Control Group Missing Values: Campaign Name          0\n",
      "Date                   0\n",
      "Spend [USD]            0\n",
      "# of Impressions       0\n",
      "Reach                  0\n",
      "# of Website Clicks    0\n",
      "# of Searches          0\n",
      "# of View Content      0\n",
      "# of Add to Cart       0\n",
      "# of Purchase          0\n",
      "dtype: int64\n",
      "Test Group Missing Values: Campaign Name          0\n",
      "Date                   0\n",
      "Spend [USD]            0\n",
      "# of Impressions       0\n",
      "Reach                  0\n",
      "# of Website Clicks    0\n",
      "# of Searches          0\n",
      "# of View Content      0\n",
      "# of Add to Cart       0\n",
      "# of Purchase          0\n",
      "dtype: int64\n"
     ]
    }
   ],
   "source": [
    "# Check for missing values (consider imputation if needed)\n",
    "print(\"Control Group Missing Values:\", control_data.isnull().sum())\n",
    "print(\"Test Group Missing Values:\", test_data.isnull().sum())"
   ]
  },
  {
   "cell_type": "code",
   "execution_count": 51,
   "id": "0e1f2f3c",
   "metadata": {},
   "outputs": [
    {
     "name": "stdout",
     "output_type": "stream",
     "text": [
      "Control Group Conversion Rate Stats:\n",
      "count    29.000000\n",
      "mean      0.006332\n",
      "std       0.002943\n",
      "min       0.002084\n",
      "25%       0.003903\n",
      "50%       0.005552\n",
      "75%       0.007925\n",
      "max       0.013362\n",
      "Name: Conversion Rate, dtype: float64\n"
     ]
    }
   ],
   "source": [
    "# Explore the Data (descriptive statistics, visualizations)\n",
    "print(\"Control Group Conversion Rate Stats:\")\n",
    "print(control_data['Conversion Rate'].describe()) "
   ]
  },
  {
   "cell_type": "code",
   "execution_count": 46,
   "id": "352a2971",
   "metadata": {},
   "outputs": [
    {
     "name": "stdout",
     "output_type": "stream",
     "text": [
      "Index(['Campaign Name', 'Date', 'Spend [USD]', '# of Impressions', 'Reach',\n",
      "       '# of Website Clicks', '# of Searches', '# of View Content',\n",
      "       '# of Add to Cart', '# of Purchase'],\n",
      "      dtype='object')\n",
      "Index(['Campaign Name', 'Date', 'Spend [USD]', '# of Impressions', 'Reach',\n",
      "       '# of Website Clicks', '# of Searches', '# of View Content',\n",
      "       '# of Add to Cart', '# of Purchase'],\n",
      "      dtype='object')\n"
     ]
    }
   ],
   "source": [
    "print(control_data.columns)\n",
    "print(test_data.columns)"
   ]
  },
  {
   "cell_type": "code",
   "execution_count": 47,
   "id": "d673ea3e",
   "metadata": {},
   "outputs": [],
   "source": [
    "# Calculate conversion rates for each campaign\n",
    "# Calculate conversion rates for each campaign\n",
    "# Calculate conversion rates for each campaign\n",
    "# Calculate conversion rates for each campaign\n",
    "control_data['Conversion Rate'] = control_data.iloc[:, -1] / control_data['Reach']\n",
    "test_data['Conversion Rate'] = test_data.iloc[:, -1] / test_data['Reach']"
   ]
  },
  {
   "cell_type": "code",
   "execution_count": 48,
   "id": "9d9266b3",
   "metadata": {},
   "outputs": [],
   "source": [
    "# Perform a t-test\n",
    "t_stat, p_value = stats.ttest_ind(control_data['Conversion Rate'], test_data['Conversion Rate'])"
   ]
  },
  {
   "cell_type": "code",
   "execution_count": 49,
   "id": "bb6586e7",
   "metadata": {},
   "outputs": [
    {
     "name": "stdout",
     "output_type": "stream",
     "text": [
      "T-statistic: -3.032601724824754\n",
      "P-value: 0.0036454744661258004\n"
     ]
    }
   ],
   "source": [
    "# Print results\n",
    "print(\"T-statistic:\", t_stat)\n",
    "print(\"P-value:\", p_value)"
   ]
  },
  {
   "cell_type": "code",
   "execution_count": 50,
   "id": "175b62f1",
   "metadata": {},
   "outputs": [
    {
     "name": "stdout",
     "output_type": "stream",
     "text": [
      "Result is statistically significant. There is a significant difference between the two groups.\n"
     ]
    }
   ],
   "source": [
    "# Determine significance level\n",
    "alpha = 0.05\n",
    "if p_value < alpha:\n",
    "    print(\"Result is statistically significant. There is a significant difference between the two groups.\")\n",
    "else:\n",
    "    print(\"Result is not statistically significant. There is no significant difference between the two groups.\")"
   ]
  },
  {
   "cell_type": "code",
   "execution_count": null,
   "id": "dcef3546",
   "metadata": {},
   "outputs": [],
   "source": []
  }
 ],
 "metadata": {
  "kernelspec": {
   "display_name": "Python 3 (ipykernel)",
   "language": "python",
   "name": "python3"
  },
  "language_info": {
   "codemirror_mode": {
    "name": "ipython",
    "version": 3
   },
   "file_extension": ".py",
   "mimetype": "text/x-python",
   "name": "python",
   "nbconvert_exporter": "python",
   "pygments_lexer": "ipython3",
   "version": "3.10.6"
  }
 },
 "nbformat": 4,
 "nbformat_minor": 5
}
